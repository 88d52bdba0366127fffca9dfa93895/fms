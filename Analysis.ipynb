{
 "cells": [
  {
   "cell_type": "code",
   "execution_count": 1,
   "metadata": {
    "collapsed": true
   },
   "outputs": [],
   "source": [
    "import pandas as pd\n",
    "import matplotlib.pyplot as plt\n",
    "import seaborn as sns\n",
    "import numpy as np\n",
    "sns.set()"
   ]
  },
  {
   "cell_type": "code",
   "execution_count": 2,
   "metadata": {
    "collapsed": true
   },
   "outputs": [],
   "source": [
    "%matplotlib inline"
   ]
  },
  {
   "cell_type": "code",
   "execution_count": 323,
   "metadata": {
    "collapsed": true
   },
   "outputs": [],
   "source": [
    "transactions = pd.read_csv(\"exp01.csv\",skiprows=1,sep=\";\")"
   ]
  },
  {
   "cell_type": "code",
   "execution_count": 324,
   "metadata": {},
   "outputs": [
    {
     "data": {
      "text/html": [
       "<div>\n",
       "<style>\n",
       "    .dataframe thead tr:only-child th {\n",
       "        text-align: right;\n",
       "    }\n",
       "\n",
       "    .dataframe thead th {\n",
       "        text-align: left;\n",
       "    }\n",
       "\n",
       "    .dataframe tbody tr th {\n",
       "        vertical-align: top;\n",
       "    }\n",
       "</style>\n",
       "<table border=\"1\" class=\"dataframe\">\n",
       "  <thead>\n",
       "    <tr style=\"text-align: right;\">\n",
       "      <th></th>\n",
       "      <th>time</th>\n",
       "      <th>transaction</th>\n",
       "      <th>price</th>\n",
       "      <th>volume</th>\n",
       "    </tr>\n",
       "  </thead>\n",
       "  <tbody>\n",
       "    <tr>\n",
       "      <th>count</th>\n",
       "      <td>14006.000000</td>\n",
       "      <td>14006.00000</td>\n",
       "      <td>1.400600e+04</td>\n",
       "      <td>14006.000000</td>\n",
       "    </tr>\n",
       "    <tr>\n",
       "      <th>mean</th>\n",
       "      <td>25246.305155</td>\n",
       "      <td>7003.50000</td>\n",
       "      <td>7.651794e+10</td>\n",
       "      <td>8.624375</td>\n",
       "    </tr>\n",
       "    <tr>\n",
       "      <th>std</th>\n",
       "      <td>14495.558471</td>\n",
       "      <td>4043.32827</td>\n",
       "      <td>2.443035e+11</td>\n",
       "      <td>19.892408</td>\n",
       "    </tr>\n",
       "    <tr>\n",
       "      <th>min</th>\n",
       "      <td>250.000000</td>\n",
       "      <td>1.00000</td>\n",
       "      <td>1.096000e+02</td>\n",
       "      <td>1.000000</td>\n",
       "    </tr>\n",
       "    <tr>\n",
       "      <th>25%</th>\n",
       "      <td>12750.000000</td>\n",
       "      <td>3502.25000</td>\n",
       "      <td>1.782144e+04</td>\n",
       "      <td>1.000000</td>\n",
       "    </tr>\n",
       "    <tr>\n",
       "      <th>50%</th>\n",
       "      <td>25250.000000</td>\n",
       "      <td>7003.50000</td>\n",
       "      <td>7.155531e+06</td>\n",
       "      <td>1.000000</td>\n",
       "    </tr>\n",
       "    <tr>\n",
       "      <th>75%</th>\n",
       "      <td>37750.000000</td>\n",
       "      <td>10504.75000</td>\n",
       "      <td>2.888575e+09</td>\n",
       "      <td>1.000000</td>\n",
       "    </tr>\n",
       "    <tr>\n",
       "      <th>max</th>\n",
       "      <td>50000.000000</td>\n",
       "      <td>14006.00000</td>\n",
       "      <td>1.165445e+12</td>\n",
       "      <td>100.000000</td>\n",
       "    </tr>\n",
       "  </tbody>\n",
       "</table>\n",
       "</div>"
      ],
      "text/plain": [
       "               time  transaction         price        volume\n",
       "count  14006.000000  14006.00000  1.400600e+04  14006.000000\n",
       "mean   25246.305155   7003.50000  7.651794e+10      8.624375\n",
       "std    14495.558471   4043.32827  2.443035e+11     19.892408\n",
       "min      250.000000      1.00000  1.096000e+02      1.000000\n",
       "25%    12750.000000   3502.25000  1.782144e+04      1.000000\n",
       "50%    25250.000000   7003.50000  7.155531e+06      1.000000\n",
       "75%    37750.000000  10504.75000  2.888575e+09      1.000000\n",
       "max    50000.000000  14006.00000  1.165445e+12    100.000000"
      ]
     },
     "execution_count": 324,
     "metadata": {},
     "output_type": "execute_result"
    }
   ],
   "source": [
    "transactions.describe()"
   ]
  },
  {
   "cell_type": "code",
   "execution_count": 325,
   "metadata": {
    "collapsed": true
   },
   "outputs": [],
   "source": [
    "#Convert time to days\n",
    "transactions.loc[:,'time'] //= 200"
   ]
  },
  {
   "cell_type": "code",
   "execution_count": 326,
   "metadata": {
    "collapsed": true
   },
   "outputs": [],
   "source": [
    "df = transactions[['time','price','volume']]"
   ]
  },
  {
   "cell_type": "code",
   "execution_count": 327,
   "metadata": {
    "collapsed": true
   },
   "outputs": [],
   "source": [
    "#Convert it to \"long-form\" or \"tidy\" representation\n",
    "df = pd.melt(df, id_vars=[\"time\"], var_name=\"condition\")"
   ]
  },
  {
   "cell_type": "code",
   "execution_count": 328,
   "metadata": {},
   "outputs": [
    {
     "data": {
      "text/plain": [
       "'# Calculate the 25th and 75th percentiles of the data\\n# and plot a translucent band between them\\nfor cond, cond_df in df.groupby(\"condition\"):\\n    low = cond_df.groupby(\"time\").value.apply(np.percentile, 25)\\n    high = cond_df.groupby(\"time\").value.apply(np.percentile, 75)\\n    ax.fill_between(x, low, high, alpha=.2, color=palette.pop(0))'"
      ]
     },
     "execution_count": 328,
     "metadata": {},
     "output_type": "execute_result"
    },
    {
     "data": {
      "image/png": "[encoded data removed]",
      "text/plain": [
       "<matplotlib.figure.Figure at 0x11b052fd0>"
      ]
     },
     "metadata": {},
     "output_type": "display_data"
    }
   ],
   "source": [
    "# Plot the average value by condition and date\n",
    "ax = df.groupby([\"condition\", \"time\"]).mean().unstack(\"condition\").plot()\n",
    "# Get a reference to the x-points corresponding to the dates and the the colors\n",
    "x = np.arange(len(df.time.unique()))\n",
    "palette = sns.color_palette()\n",
    "\n",
    "\"\"\"# Calculate the 25th and 75th percentiles of the data\n",
    "# and plot a translucent band between them\n",
    "for cond, cond_df in df.groupby(\"condition\"):\n",
    "    low = cond_df.groupby(\"time\").value.apply(np.percentile, 25)\n",
    "    high = cond_df.groupby(\"time\").value.apply(np.percentile, 75)\n",
    "    ax.fill_between(x, low, high, alpha=.2, color=palette.pop(0))\"\"\"\n"
   ]
  },
  {
   "cell_type": "code",
   "execution_count": 322,
   "metadata": {},
   "outputs": [
    {
     "data": {
      "text/plain": [
       "<matplotlib.collections.PathCollection at 0x11cb26190>"
      ]
     },
     "execution_count": 322,
     "metadata": {},
     "output_type": "execute_result"
    },
    {
     "data": {
      "image/png": "[encoded data removed]",
      "text/plain": [
       "<matplotlib.figure.Figure at 0x11b052e50>"
      ]
     },
     "metadata": {},
     "output_type": "display_data"
    }
   ],
   "source": [
    "plt.scatter(y=transactions.price,x=transactions.time)"
   ]
  },
  {
   "cell_type": "code",
   "execution_count": null,
   "metadata": {
    "collapsed": true
   },
   "outputs": [],
   "source": []
  }
 ],
 "metadata": {
  "kernelspec": {
   "display_name": "Python [conda env:py27]",
   "language": "python",
   "name": "conda-env-py27-py"
  },
  "language_info": {
   "codemirror_mode": {
    "name": "ipython",
    "version": 2
   },
   "file_extension": ".py",
   "mimetype": "text/x-python",
   "name": "python",
   "nbconvert_exporter": "python",
   "pygments_lexer": "ipython2",
   "version": "2.7.13"
  }
 },
 "nbformat": 4,
 "nbformat_minor": 2
}
